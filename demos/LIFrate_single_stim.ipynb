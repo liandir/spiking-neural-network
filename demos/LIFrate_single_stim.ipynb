{
 "cells": [
  {
   "cell_type": "code",
   "execution_count": 1,
   "metadata": {},
   "outputs": [
    {
     "ename": "ModuleNotFoundError",
     "evalue": "No module named 'neurons'",
     "output_type": "error",
     "traceback": [
      "\u001b[0;31m---------------------------------------------------------------------------\u001b[0m",
      "\u001b[0;31mModuleNotFoundError\u001b[0m                       Traceback (most recent call last)",
      "\u001b[0;32m<ipython-input-1-26e655e6a92c>\u001b[0m in \u001b[0;36m<module>\u001b[0;34m\u001b[0m\n\u001b[1;32m      5\u001b[0m \u001b[0;32mimport\u001b[0m \u001b[0mmatplotlib\u001b[0m\u001b[0;34m.\u001b[0m\u001b[0mpyplot\u001b[0m \u001b[0;32mas\u001b[0m \u001b[0mplt\u001b[0m\u001b[0;34m\u001b[0m\u001b[0;34m\u001b[0m\u001b[0m\n\u001b[1;32m      6\u001b[0m \u001b[0;34m\u001b[0m\u001b[0m\n\u001b[0;32m----> 7\u001b[0;31m \u001b[0;32mimport\u001b[0m \u001b[0mneurons\u001b[0m\u001b[0;34m\u001b[0m\u001b[0;34m\u001b[0m\u001b[0m\n\u001b[0m",
      "\u001b[0;31mModuleNotFoundError\u001b[0m: No module named 'neurons'"
     ]
    }
   ],
   "source": [
    "import os, sys\n",
    "sys.path.append('../')\n",
    "\n",
    "import numpy as np\n",
    "import matplotlib.pyplot as plt\n",
    "\n",
    "import neurons"
   ]
  },
  {
   "cell_type": "code",
   "execution_count": null,
   "metadata": {},
   "outputs": [],
   "source": [
    "net = neurons.Network()\n",
    "\n",
    "net.add(neurons.Sensory, 100, 'input')\n",
    "net.add(neurons.LIFrate, 10, 'neuron',\n",
    "    v_rest=-70,\n",
    "    v_thres=-55,\n",
    "    R=20,\n",
    "    tau_s=10,\n",
    "    gamma=0.5,\n",
    "    theta=0.5\n",
    ")\n",
    "net.connect('input', 'neuron')\n",
    "\n",
    "net.compile()"
   ]
  },
  {
   "cell_type": "code",
   "execution_count": null,
   "metadata": {},
   "outputs": [],
   "source": [
    "net.train = True"
   ]
  },
  {
   "cell_type": "code",
   "execution_count": null,
   "metadata": {},
   "outputs": [],
   "source": [
    "seconds = 100\n",
    "dt = 0.001 # 1 ms\n",
    "\n",
    "\n",
    "net.reset_history()\n",
    "steps = int(seconds / dt)\n",
    "\n",
    "for i in range(steps):\n",
    "    \n",
    "    if i*dt == 10:\n",
    "        net.bundles['input'].outputs[:] = 0.5\n",
    "        \n",
    "    if i*dt == 40:\n",
    "        net.bundles['input'].outputs[:] = 0\n",
    "        \n",
    "    if i*dt == 50:\n",
    "        net.bundles['input'].outputs[:] = 0.2\n",
    "        \n",
    "    if i*dt == 80:\n",
    "        net.bundles['input'].outputs[:] = 0\n",
    "        \n",
    "    net.step(dt)"
   ]
  },
  {
   "cell_type": "code",
   "execution_count": null,
   "metadata": {},
   "outputs": [],
   "source": [
    "plt.figure(figsize=(14,5), dpi=80)\n",
    "plt.title('input current')\n",
    "plt.plot(np.arange(steps) * dt, net.history['neuron'].current)\n",
    "plt.ylabel('current [mA]')\n",
    "plt.xlabel('time [s]')\n",
    "plt.show()"
   ]
  },
  {
   "cell_type": "code",
   "execution_count": null,
   "metadata": {},
   "outputs": [],
   "source": [
    "plt.figure(figsize=(14,5), dpi=80)\n",
    "plt.title('membrane potential')\n",
    "plt.plot(np.arange(steps) * dt, net.history['neuron'].voltage)\n",
    "plt.ylabel('voltage [mV]')\n",
    "plt.xlabel('time [s]')\n",
    "plt.show()"
   ]
  },
  {
   "cell_type": "code",
   "execution_count": null,
   "metadata": {},
   "outputs": [],
   "source": [
    "plt.figure(figsize=(14,5), dpi=80)\n",
    "plt.title('Spikes')\n",
    "plt.plot(np.arange(steps) * dt, net.history['neuron'].outputs)\n",
    "plt.ylabel('firing rate [1/max_rate]')\n",
    "plt.xlabel('time [s]')\n",
    "plt.ylim(0,1)\n",
    "plt.show()"
   ]
  },
  {
   "cell_type": "code",
   "execution_count": null,
   "metadata": {},
   "outputs": [],
   "source": []
  }
 ],
 "metadata": {
  "kernelspec": {
   "display_name": "Python 3",
   "language": "python",
   "name": "python3"
  },
  "language_info": {
   "codemirror_mode": {
    "name": "ipython",
    "version": 3
   },
   "file_extension": ".py",
   "mimetype": "text/x-python",
   "name": "python",
   "nbconvert_exporter": "python",
   "pygments_lexer": "ipython3",
   "version": "3.8.3"
  }
 },
 "nbformat": 4,
 "nbformat_minor": 4
}
